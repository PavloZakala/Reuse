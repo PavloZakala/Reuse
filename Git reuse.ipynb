{
  "nbformat": 4,
  "nbformat_minor": 0,
  "metadata": {
    "colab": {
      "name": "Git cookbook.ipynb",
      "provenance": [],
      "collapsed_sections": [],
      "authorship_tag": "ABX9TyMTodMa7K6HJ9buXIVFW1TI",
      "include_colab_link": true
    },
    "kernelspec": {
      "name": "python3",
      "display_name": "Python 3"
    }
  },
  "cells": [
    {
      "cell_type": "markdown",
      "metadata": {
        "id": "view-in-github",
        "colab_type": "text"
      },
      "source": [
        "<a href=\"https://colab.research.google.com/github/ZPavlo/Tutorials/blob/master/Git_cookbook.ipynb\" target=\"_parent\"><img src=\"https://colab.research.google.com/assets/colab-badge.svg\" alt=\"Open In Colab\"/></a>"
      ]
    },
    {
      "cell_type": "markdown",
      "metadata": {
        "id": "kNfV3JRYGvHP",
        "colab_type": "text"
      },
      "source": [
        "Створення нового alias:\n",
        "```\n",
        "git config --global alias.graph \"log --all --oneline --graph\"\n",
        "```"
      ]
    },
    {
      "cell_type": "markdown",
      "metadata": {
        "id": "QZq9Cq6dlPtM",
        "colab_type": "text"
      },
      "source": [
        "Завантажити один файл з GitHub репозиторію:\n",
        "```\n",
        "wget https://github.com/ZPavlo/Tutorials/raw/master/Git_cookbook.ipynb\n",
        "```\n"
      ]
    }
  ]
}
