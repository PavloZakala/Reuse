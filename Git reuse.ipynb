{
  "nbformat": 4,
  "nbformat_minor": 0,
  "metadata": {
    "colab": {
      "name": "Git cookbook.ipynb",
      "provenance": [],
      "collapsed_sections": [],
      "authorship_tag": "ABX9TyPrqK70U4SVlsJoss/wNam4",
      "include_colab_link": true
    },
    "kernelspec": {
      "name": "python3",
      "display_name": "Python 3"
    }
  },
  "cells": [
    {
      "cell_type": "markdown",
      "metadata": {
        "id": "view-in-github",
        "colab_type": "text"
      },
      "source": [
        "<a href=\"https://colab.research.google.com/github/ZPavlo/Reuse/blob/master/Git%20reuse.ipynb\" target=\"_parent\"><img src=\"https://colab.research.google.com/assets/colab-badge.svg\" alt=\"Open In Colab\"/></a>"
      ]
    },
    {
      "cell_type": "markdown",
      "metadata": {
        "id": "X40bQFnNkyUX"
      },
      "source": [
        "Для встановлення імені користувача:"
      ]
    },
    {
      "cell_type": "code",
      "metadata": {
        "id": "9B-FeEahkmB_"
      },
      "source": [
        "git config --global user.email \"user@example.com\"\n",
        "git config --global user.name \"user\""
      ],
      "execution_count": null,
      "outputs": []
    },
    {
      "cell_type": "markdown",
      "metadata": {
        "id": "VOePF80vk89I"
      },
      "source": [
        "Поточні дані про користувача:"
      ]
    },
    {
      "cell_type": "code",
      "metadata": {
        "id": "5dcQZAPPk9N-"
      },
      "source": [
        "git config -l"
      ],
      "execution_count": null,
      "outputs": []
    },
    {
      "cell_type": "markdown",
      "metadata": {
        "id": "Wb0FmMWFlJso"
      },
      "source": [
        "Генерація SSH ключа"
      ]
    },
    {
      "cell_type": "code",
      "metadata": {
        "id": "QVWTOVshlJMB"
      },
      "source": [
        "ssh-keygen -t rsa -C \"user@example.com\"\n",
        "\n",
        "cat ~/.ssh/id_rsa  # приватний ключ\n",
        "cat ~/.ssh/id_rsa.pub  # публічний ключ"
      ],
      "execution_count": null,
      "outputs": []
    },
    {
      "cell_type": "markdown",
      "metadata": {
        "id": "kNfV3JRYGvHP"
      },
      "source": [
        "Створення нового alias:\n",
        "```\n",
        "git config --global alias.graph \"log --all --oneline --graph\"\n",
        "```"
      ]
    },
    {
      "cell_type": "markdown",
      "metadata": {
        "id": "QZq9Cq6dlPtM"
      },
      "source": [
        "Завантажити один файл з GitHub репозиторію:\n",
        "```\n",
        "wget https://github.com/ZPavlo/Tutorials/raw/master/Git_cookbook.ipynb\n",
        "```\n"
      ]
    },
    {
      "cell_type": "markdown",
      "source": [
        "Для того щоб пушити на remote non-bare репозиторій:\n",
        "```\n",
        "git config receive.denyCurrentBranch updateInstead\n",
        "```"
      ],
      "metadata": {
        "id": "nni7TuzGasej"
      }
    }
  ]
}