{
  "nbformat": 4,
  "nbformat_minor": 0,
  "metadata": {
    "colab": {
      "name": "Conda reuse.ipynb",
      "provenance": [],
      "authorship_tag": "ABX9TyNwruJ2MqnUoQcZxwSFF3UV",
      "include_colab_link": true
    },
    "kernelspec": {
      "name": "python3",
      "display_name": "Python 3"
    }
  },
  "cells": [
    {
      "cell_type": "markdown",
      "metadata": {
        "id": "view-in-github",
        "colab_type": "text"
      },
      "source": [
        "<a href=\"https://colab.research.google.com/github/ZPavlo/Tutorials/blob/master/Conda_reuse.ipynb\" target=\"_parent\"><img src=\"https://colab.research.google.com/assets/colab-badge.svg\" alt=\"Open In Colab\"/></a>"
      ]
    },
    {
      "cell_type": "markdown",
      "metadata": {
        "id": "BGx4QNOBuAD-"
      },
      "source": [
        "Встановити Miniconda на Linux :\n",
        "```\n",
        "wget https://repo.anaconda.com/miniconda/Miniconda3-latest-Linux-x86_64.sh -O ~/miniconda.sh\n",
        "bash ~/miniconda.sh -b -p ~/miniconda\n",
        "echo \"PATH=\\$PATH:\\$HOME/miniconda/bin\" >> .bashrc\n",
        "```"
      ]
    },
    {
      "cell_type": "markdown",
      "metadata": {
        "id": "0oPRI8RPwPhT"
      },
      "source": [
        "Створити нове conda/miniconda середовище Python 3.6\n",
        "```\n",
        "conda create -n myenv python=3.6\n",
        "```"
      ]
    },
    {
      "cell_type": "markdown",
      "metadata": {
        "id": "I2iCcn3bwqMs"
      },
      "source": [
        "Експортувати conda/miniconda середовище в .yml файл:\n",
        "\n",
        "```\n",
        "conda env export > environment.yml\n",
        "```"
      ]
    },
    {
      "cell_type": "markdown",
      "metadata": {
        "id": "y9XWK7BuxQ5s"
      },
      "source": [
        "Створити conda/miniconda середовище на основі .yml файлу:\n",
        "```\n",
        "conda env create -f environment.yml\n",
        "```"
      ]
    },
    {
      "cell_type": "markdown",
      "metadata": {
        "id": "vQCI6tMrx3ZP"
      },
      "source": [
        "Видалити conda/miniconda середовище в .yml файл:\n",
        "\n",
        "```\n",
        "conda remove --name myenv --all\n",
        "```"
      ]
    }
  ]
}